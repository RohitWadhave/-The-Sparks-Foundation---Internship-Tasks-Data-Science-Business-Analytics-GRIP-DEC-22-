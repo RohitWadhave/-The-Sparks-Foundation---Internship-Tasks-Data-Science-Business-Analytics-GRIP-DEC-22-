{
  "cells": [
    {
      "cell_type": "markdown",
      "id": "f28utXKFYYnN",
      "metadata": {
        "id": "f28utXKFYYnN"
      },
      "source": [
        "# **Author : ROHIT WADHAVE**\n",
        "###  **The Sparks Foundation** - Data Science and Business Analytics \n",
        "#####            *(GRIP DECEMBER'22)*\n",
        "\n"
      ]
    },
    {
      "cell_type": "markdown",
      "id": "5416dc2e",
      "metadata": {
        "id": "5416dc2e"
      },
      "source": [
        "#  Task 2 : Prediction using Unsupervised Machine Learning"
      ]
    },
    {
      "cell_type": "markdown",
      "id": "3rLxw7GShwh6",
      "metadata": {
        "id": "3rLxw7GShwh6"
      },
      "source": [
        "### Problem Statement\n",
        "\n",
        "Aim: From the given 'Iris' dataset, print the optimum number of clusters and represent it visually."
      ]
    },
    {
      "cell_type": "markdown",
      "id": "8053ed9e",
      "metadata": {
        "id": "8053ed9e"
      },
      "source": [
        "## **Importing all libraries required in this notebook**"
      ]
    },
    {
      "cell_type": "code",
      "execution_count": 1,
      "id": "7fb20ae9",
      "metadata": {
        "id": "7fb20ae9"
      },
      "outputs": [],
      "source": [
        "import pandas as pd\n",
        "import numpy as np\n",
        "\n",
        "import matplotlib.pyplot as plt\n",
        "import seaborn as sns\n",
        "%matplotlib inline\n",
        "\n",
        "import warnings\n",
        "warnings.filterwarnings(\"ignore\")"
      ]
    },
    {
      "cell_type": "markdown",
      "id": "debed8f0",
      "metadata": {
        "id": "debed8f0"
      },
      "source": [
        "####  Dataset needed  : https://bit.ly/3kXTdox"
      ]
    },
    {
      "cell_type": "markdown",
      "id": "4dbe87fb",
      "metadata": {
        "id": "4dbe87fb"
      },
      "source": [
        "Read the csv dataset as a pandas dataframe. "
      ]
    },
    {
      "cell_type": "code",
      "execution_count": 2,
      "id": "978288db",
      "metadata": {
        "colab": {
          "base_uri": "https://localhost:8080/",
          "height": 336
        },
        "id": "978288db",
        "outputId": "af8de362-27e0-4648-8333-360a09258f93"
      },
      "outputs": [
        {
          "data": {
            "text/html": [
              "<div>\n",
              "<style scoped>\n",
              "    .dataframe tbody tr th:only-of-type {\n",
              "        vertical-align: middle;\n",
              "    }\n",
              "\n",
              "    .dataframe tbody tr th {\n",
              "        vertical-align: top;\n",
              "    }\n",
              "\n",
              "    .dataframe thead th {\n",
              "        text-align: right;\n",
              "    }\n",
              "</style>\n",
              "<table border=\"1\" class=\"dataframe\">\n",
              "  <thead>\n",
              "    <tr style=\"text-align: right;\">\n",
              "      <th></th>\n",
              "      <th>Id</th>\n",
              "      <th>SepalLengthCm</th>\n",
              "      <th>SepalWidthCm</th>\n",
              "      <th>PetalLengthCm</th>\n",
              "      <th>PetalWidthCm</th>\n",
              "      <th>Species</th>\n",
              "    </tr>\n",
              "  </thead>\n",
              "  <tbody>\n",
              "    <tr>\n",
              "      <th>0</th>\n",
              "      <td>1</td>\n",
              "      <td>5.1</td>\n",
              "      <td>3.5</td>\n",
              "      <td>1.4</td>\n",
              "      <td>0.2</td>\n",
              "      <td>Iris-setosa</td>\n",
              "    </tr>\n",
              "    <tr>\n",
              "      <th>1</th>\n",
              "      <td>2</td>\n",
              "      <td>4.9</td>\n",
              "      <td>3.0</td>\n",
              "      <td>1.4</td>\n",
              "      <td>0.2</td>\n",
              "      <td>Iris-setosa</td>\n",
              "    </tr>\n",
              "    <tr>\n",
              "      <th>2</th>\n",
              "      <td>3</td>\n",
              "      <td>4.7</td>\n",
              "      <td>3.2</td>\n",
              "      <td>1.3</td>\n",
              "      <td>0.2</td>\n",
              "      <td>Iris-setosa</td>\n",
              "    </tr>\n",
              "    <tr>\n",
              "      <th>3</th>\n",
              "      <td>4</td>\n",
              "      <td>4.6</td>\n",
              "      <td>3.1</td>\n",
              "      <td>1.5</td>\n",
              "      <td>0.2</td>\n",
              "      <td>Iris-setosa</td>\n",
              "    </tr>\n",
              "    <tr>\n",
              "      <th>4</th>\n",
              "      <td>5</td>\n",
              "      <td>5.0</td>\n",
              "      <td>3.6</td>\n",
              "      <td>1.4</td>\n",
              "      <td>0.2</td>\n",
              "      <td>Iris-setosa</td>\n",
              "    </tr>\n",
              "    <tr>\n",
              "      <th>...</th>\n",
              "      <td>...</td>\n",
              "      <td>...</td>\n",
              "      <td>...</td>\n",
              "      <td>...</td>\n",
              "      <td>...</td>\n",
              "      <td>...</td>\n",
              "    </tr>\n",
              "    <tr>\n",
              "      <th>145</th>\n",
              "      <td>146</td>\n",
              "      <td>6.7</td>\n",
              "      <td>3.0</td>\n",
              "      <td>5.2</td>\n",
              "      <td>2.3</td>\n",
              "      <td>Iris-virginica</td>\n",
              "    </tr>\n",
              "    <tr>\n",
              "      <th>146</th>\n",
              "      <td>147</td>\n",
              "      <td>6.3</td>\n",
              "      <td>2.5</td>\n",
              "      <td>5.0</td>\n",
              "      <td>1.9</td>\n",
              "      <td>Iris-virginica</td>\n",
              "    </tr>\n",
              "    <tr>\n",
              "      <th>147</th>\n",
              "      <td>148</td>\n",
              "      <td>6.5</td>\n",
              "      <td>3.0</td>\n",
              "      <td>5.2</td>\n",
              "      <td>2.0</td>\n",
              "      <td>Iris-virginica</td>\n",
              "    </tr>\n",
              "    <tr>\n",
              "      <th>148</th>\n",
              "      <td>149</td>\n",
              "      <td>6.2</td>\n",
              "      <td>3.4</td>\n",
              "      <td>5.4</td>\n",
              "      <td>2.3</td>\n",
              "      <td>Iris-virginica</td>\n",
              "    </tr>\n",
              "    <tr>\n",
              "      <th>149</th>\n",
              "      <td>150</td>\n",
              "      <td>5.9</td>\n",
              "      <td>3.0</td>\n",
              "      <td>5.1</td>\n",
              "      <td>1.8</td>\n",
              "      <td>Iris-virginica</td>\n",
              "    </tr>\n",
              "  </tbody>\n",
              "</table>\n",
              "<p>150 rows × 6 columns</p>\n",
              "</div>"
            ],
            "text/plain": [
              "      Id  SepalLengthCm  SepalWidthCm  PetalLengthCm  PetalWidthCm  \\\n",
              "0      1            5.1           3.5            1.4           0.2   \n",
              "1      2            4.9           3.0            1.4           0.2   \n",
              "2      3            4.7           3.2            1.3           0.2   \n",
              "3      4            4.6           3.1            1.5           0.2   \n",
              "4      5            5.0           3.6            1.4           0.2   \n",
              "..   ...            ...           ...            ...           ...   \n",
              "145  146            6.7           3.0            5.2           2.3   \n",
              "146  147            6.3           2.5            5.0           1.9   \n",
              "147  148            6.5           3.0            5.2           2.0   \n",
              "148  149            6.2           3.4            5.4           2.3   \n",
              "149  150            5.9           3.0            5.1           1.8   \n",
              "\n",
              "            Species  \n",
              "0       Iris-setosa  \n",
              "1       Iris-setosa  \n",
              "2       Iris-setosa  \n",
              "3       Iris-setosa  \n",
              "4       Iris-setosa  \n",
              "..              ...  \n",
              "145  Iris-virginica  \n",
              "146  Iris-virginica  \n",
              "147  Iris-virginica  \n",
              "148  Iris-virginica  \n",
              "149  Iris-virginica  \n",
              "\n",
              "[150 rows x 6 columns]"
            ]
          },
          "execution_count": 2,
          "metadata": {},
          "output_type": "execute_result"
        }
      ],
      "source": [
        "df = pd.read_csv(r\"C:\\Users\\Admin\\Downloads\\Sparks Task 2 - Prediction using Unsupervised ML\\Iris.csv\")\n",
        "df"
      ]
    },
    {
      "cell_type": "code",
      "execution_count": 3,
      "id": "wOC9N8kQIXX1",
      "metadata": {
        "id": "wOC9N8kQIXX1"
      },
      "outputs": [],
      "source": [
        "df.drop('Id', axis=1, inplace=True)           # Dropping extra unnecessary column from the dataset"
      ]
    },
    {
      "cell_type": "markdown",
      "id": "0d9cdbc8",
      "metadata": {
        "id": "0d9cdbc8"
      },
      "source": [
        "## **Data Understanding**"
      ]
    },
    {
      "cell_type": "code",
      "execution_count": 4,
      "id": "810d5465",
      "metadata": {
        "id": "810d5465"
      },
      "outputs": [
        {
          "data": {
            "text/plain": [
              "(150, 5)"
            ]
          },
          "execution_count": 4,
          "metadata": {},
          "output_type": "execute_result"
        }
      ],
      "source": [
        "df.shape"
      ]
    },
    {
      "cell_type": "code",
      "execution_count": 5,
      "id": "342a4991",
      "metadata": {
        "id": "342a4991"
      },
      "outputs": [
        {
          "data": {
            "text/html": [
              "<div>\n",
              "<style scoped>\n",
              "    .dataframe tbody tr th:only-of-type {\n",
              "        vertical-align: middle;\n",
              "    }\n",
              "\n",
              "    .dataframe tbody tr th {\n",
              "        vertical-align: top;\n",
              "    }\n",
              "\n",
              "    .dataframe thead th {\n",
              "        text-align: right;\n",
              "    }\n",
              "</style>\n",
              "<table border=\"1\" class=\"dataframe\">\n",
              "  <thead>\n",
              "    <tr style=\"text-align: right;\">\n",
              "      <th></th>\n",
              "      <th>SepalLengthCm</th>\n",
              "      <th>SepalWidthCm</th>\n",
              "      <th>PetalLengthCm</th>\n",
              "      <th>PetalWidthCm</th>\n",
              "      <th>Species</th>\n",
              "    </tr>\n",
              "  </thead>\n",
              "  <tbody>\n",
              "    <tr>\n",
              "      <th>0</th>\n",
              "      <td>5.1</td>\n",
              "      <td>3.5</td>\n",
              "      <td>1.4</td>\n",
              "      <td>0.2</td>\n",
              "      <td>Iris-setosa</td>\n",
              "    </tr>\n",
              "    <tr>\n",
              "      <th>1</th>\n",
              "      <td>4.9</td>\n",
              "      <td>3.0</td>\n",
              "      <td>1.4</td>\n",
              "      <td>0.2</td>\n",
              "      <td>Iris-setosa</td>\n",
              "    </tr>\n",
              "    <tr>\n",
              "      <th>2</th>\n",
              "      <td>4.7</td>\n",
              "      <td>3.2</td>\n",
              "      <td>1.3</td>\n",
              "      <td>0.2</td>\n",
              "      <td>Iris-setosa</td>\n",
              "    </tr>\n",
              "    <tr>\n",
              "      <th>3</th>\n",
              "      <td>4.6</td>\n",
              "      <td>3.1</td>\n",
              "      <td>1.5</td>\n",
              "      <td>0.2</td>\n",
              "      <td>Iris-setosa</td>\n",
              "    </tr>\n",
              "    <tr>\n",
              "      <th>4</th>\n",
              "      <td>5.0</td>\n",
              "      <td>3.6</td>\n",
              "      <td>1.4</td>\n",
              "      <td>0.2</td>\n",
              "      <td>Iris-setosa</td>\n",
              "    </tr>\n",
              "  </tbody>\n",
              "</table>\n",
              "</div>"
            ],
            "text/plain": [
              "   SepalLengthCm  SepalWidthCm  PetalLengthCm  PetalWidthCm      Species\n",
              "0            5.1           3.5            1.4           0.2  Iris-setosa\n",
              "1            4.9           3.0            1.4           0.2  Iris-setosa\n",
              "2            4.7           3.2            1.3           0.2  Iris-setosa\n",
              "3            4.6           3.1            1.5           0.2  Iris-setosa\n",
              "4            5.0           3.6            1.4           0.2  Iris-setosa"
            ]
          },
          "execution_count": 5,
          "metadata": {},
          "output_type": "execute_result"
        }
      ],
      "source": [
        "df.head()          # Check top 5 rows"
      ]
    },
    {
      "cell_type": "code",
      "execution_count": 6,
      "id": "uHH5eJSek1VJ",
      "metadata": {
        "id": "uHH5eJSek1VJ"
      },
      "outputs": [
        {
          "data": {
            "text/html": [
              "<div>\n",
              "<style scoped>\n",
              "    .dataframe tbody tr th:only-of-type {\n",
              "        vertical-align: middle;\n",
              "    }\n",
              "\n",
              "    .dataframe tbody tr th {\n",
              "        vertical-align: top;\n",
              "    }\n",
              "\n",
              "    .dataframe thead th {\n",
              "        text-align: right;\n",
              "    }\n",
              "</style>\n",
              "<table border=\"1\" class=\"dataframe\">\n",
              "  <thead>\n",
              "    <tr style=\"text-align: right;\">\n",
              "      <th></th>\n",
              "      <th>SepalLengthCm</th>\n",
              "      <th>SepalWidthCm</th>\n",
              "      <th>PetalLengthCm</th>\n",
              "      <th>PetalWidthCm</th>\n",
              "      <th>Species</th>\n",
              "    </tr>\n",
              "  </thead>\n",
              "  <tbody>\n",
              "    <tr>\n",
              "      <th>145</th>\n",
              "      <td>6.7</td>\n",
              "      <td>3.0</td>\n",
              "      <td>5.2</td>\n",
              "      <td>2.3</td>\n",
              "      <td>Iris-virginica</td>\n",
              "    </tr>\n",
              "    <tr>\n",
              "      <th>146</th>\n",
              "      <td>6.3</td>\n",
              "      <td>2.5</td>\n",
              "      <td>5.0</td>\n",
              "      <td>1.9</td>\n",
              "      <td>Iris-virginica</td>\n",
              "    </tr>\n",
              "    <tr>\n",
              "      <th>147</th>\n",
              "      <td>6.5</td>\n",
              "      <td>3.0</td>\n",
              "      <td>5.2</td>\n",
              "      <td>2.0</td>\n",
              "      <td>Iris-virginica</td>\n",
              "    </tr>\n",
              "    <tr>\n",
              "      <th>148</th>\n",
              "      <td>6.2</td>\n",
              "      <td>3.4</td>\n",
              "      <td>5.4</td>\n",
              "      <td>2.3</td>\n",
              "      <td>Iris-virginica</td>\n",
              "    </tr>\n",
              "    <tr>\n",
              "      <th>149</th>\n",
              "      <td>5.9</td>\n",
              "      <td>3.0</td>\n",
              "      <td>5.1</td>\n",
              "      <td>1.8</td>\n",
              "      <td>Iris-virginica</td>\n",
              "    </tr>\n",
              "  </tbody>\n",
              "</table>\n",
              "</div>"
            ],
            "text/plain": [
              "     SepalLengthCm  SepalWidthCm  PetalLengthCm  PetalWidthCm         Species\n",
              "145            6.7           3.0            5.2           2.3  Iris-virginica\n",
              "146            6.3           2.5            5.0           1.9  Iris-virginica\n",
              "147            6.5           3.0            5.2           2.0  Iris-virginica\n",
              "148            6.2           3.4            5.4           2.3  Iris-virginica\n",
              "149            5.9           3.0            5.1           1.8  Iris-virginica"
            ]
          },
          "execution_count": 6,
          "metadata": {},
          "output_type": "execute_result"
        }
      ],
      "source": [
        "df.tail()          # Check last 5 rows"
      ]
    },
    {
      "cell_type": "code",
      "execution_count": 7,
      "id": "8cd99309",
      "metadata": {
        "id": "8cd99309"
      },
      "outputs": [
        {
          "name": "stdout",
          "output_type": "stream",
          "text": [
            "<class 'pandas.core.frame.DataFrame'>\n",
            "RangeIndex: 150 entries, 0 to 149\n",
            "Data columns (total 5 columns):\n",
            " #   Column         Non-Null Count  Dtype  \n",
            "---  ------         --------------  -----  \n",
            " 0   SepalLengthCm  150 non-null    float64\n",
            " 1   SepalWidthCm   150 non-null    float64\n",
            " 2   PetalLengthCm  150 non-null    float64\n",
            " 3   PetalWidthCm   150 non-null    float64\n",
            " 4   Species        150 non-null    object \n",
            "dtypes: float64(4), object(1)\n",
            "memory usage: 6.0+ KB\n"
          ]
        }
      ],
      "source": [
        "df.info()"
      ]
    },
    {
      "cell_type": "code",
      "execution_count": 8,
      "id": "4dee1884",
      "metadata": {
        "id": "4dee1884"
      },
      "outputs": [
        {
          "data": {
            "text/plain": [
              "SepalLengthCm    float64\n",
              "SepalWidthCm     float64\n",
              "PetalLengthCm    float64\n",
              "PetalWidthCm     float64\n",
              "Species           object\n",
              "dtype: object"
            ]
          },
          "execution_count": 8,
          "metadata": {},
          "output_type": "execute_result"
        }
      ],
      "source": [
        "df.dtypes"
      ]
    },
    {
      "cell_type": "code",
      "execution_count": 9,
      "id": "f2471ba7",
      "metadata": {
        "id": "f2471ba7"
      },
      "outputs": [
        {
          "data": {
            "text/html": [
              "<div>\n",
              "<style scoped>\n",
              "    .dataframe tbody tr th:only-of-type {\n",
              "        vertical-align: middle;\n",
              "    }\n",
              "\n",
              "    .dataframe tbody tr th {\n",
              "        vertical-align: top;\n",
              "    }\n",
              "\n",
              "    .dataframe thead th {\n",
              "        text-align: right;\n",
              "    }\n",
              "</style>\n",
              "<table border=\"1\" class=\"dataframe\">\n",
              "  <thead>\n",
              "    <tr style=\"text-align: right;\">\n",
              "      <th></th>\n",
              "      <th>SepalLengthCm</th>\n",
              "      <th>SepalWidthCm</th>\n",
              "      <th>PetalLengthCm</th>\n",
              "      <th>PetalWidthCm</th>\n",
              "    </tr>\n",
              "  </thead>\n",
              "  <tbody>\n",
              "    <tr>\n",
              "      <th>count</th>\n",
              "      <td>150.000000</td>\n",
              "      <td>150.000000</td>\n",
              "      <td>150.000000</td>\n",
              "      <td>150.000000</td>\n",
              "    </tr>\n",
              "    <tr>\n",
              "      <th>mean</th>\n",
              "      <td>5.843333</td>\n",
              "      <td>3.054000</td>\n",
              "      <td>3.758667</td>\n",
              "      <td>1.198667</td>\n",
              "    </tr>\n",
              "    <tr>\n",
              "      <th>std</th>\n",
              "      <td>0.828066</td>\n",
              "      <td>0.433594</td>\n",
              "      <td>1.764420</td>\n",
              "      <td>0.763161</td>\n",
              "    </tr>\n",
              "    <tr>\n",
              "      <th>min</th>\n",
              "      <td>4.300000</td>\n",
              "      <td>2.000000</td>\n",
              "      <td>1.000000</td>\n",
              "      <td>0.100000</td>\n",
              "    </tr>\n",
              "    <tr>\n",
              "      <th>25%</th>\n",
              "      <td>5.100000</td>\n",
              "      <td>2.800000</td>\n",
              "      <td>1.600000</td>\n",
              "      <td>0.300000</td>\n",
              "    </tr>\n",
              "    <tr>\n",
              "      <th>50%</th>\n",
              "      <td>5.800000</td>\n",
              "      <td>3.000000</td>\n",
              "      <td>4.350000</td>\n",
              "      <td>1.300000</td>\n",
              "    </tr>\n",
              "    <tr>\n",
              "      <th>75%</th>\n",
              "      <td>6.400000</td>\n",
              "      <td>3.300000</td>\n",
              "      <td>5.100000</td>\n",
              "      <td>1.800000</td>\n",
              "    </tr>\n",
              "    <tr>\n",
              "      <th>max</th>\n",
              "      <td>7.900000</td>\n",
              "      <td>4.400000</td>\n",
              "      <td>6.900000</td>\n",
              "      <td>2.500000</td>\n",
              "    </tr>\n",
              "  </tbody>\n",
              "</table>\n",
              "</div>"
            ],
            "text/plain": [
              "       SepalLengthCm  SepalWidthCm  PetalLengthCm  PetalWidthCm\n",
              "count     150.000000    150.000000     150.000000    150.000000\n",
              "mean        5.843333      3.054000       3.758667      1.198667\n",
              "std         0.828066      0.433594       1.764420      0.763161\n",
              "min         4.300000      2.000000       1.000000      0.100000\n",
              "25%         5.100000      2.800000       1.600000      0.300000\n",
              "50%         5.800000      3.000000       4.350000      1.300000\n",
              "75%         6.400000      3.300000       5.100000      1.800000\n",
              "max         7.900000      4.400000       6.900000      2.500000"
            ]
          },
          "execution_count": 9,
          "metadata": {},
          "output_type": "execute_result"
        }
      ],
      "source": [
        "df.describe()                 # Statistical information of dataset"
      ]
    },
    {
      "cell_type": "markdown",
      "id": "SgDjU7890tIz",
      "metadata": {
        "id": "SgDjU7890tIz"
      },
      "source": [
        "## **Check if missing values present or not**"
      ]
    },
    {
      "cell_type": "code",
      "execution_count": 10,
      "id": "8d16ff08",
      "metadata": {
        "id": "8d16ff08"
      },
      "outputs": [
        {
          "data": {
            "text/plain": [
              "SepalLengthCm    0\n",
              "SepalWidthCm     0\n",
              "PetalLengthCm    0\n",
              "PetalWidthCm     0\n",
              "Species          0\n",
              "dtype: int64"
            ]
          },
          "execution_count": 10,
          "metadata": {},
          "output_type": "execute_result"
        }
      ],
      "source": [
        "df.isnull().sum()             # Displays sum total of null values present in dataset"
      ]
    },
    {
      "cell_type": "markdown",
      "id": "766b68a0",
      "metadata": {
        "id": "766b68a0"
      },
      "source": [
        "***------>  No null values are  present in the 'Iris' dataset.***"
      ]
    },
    {
      "cell_type": "code",
      "execution_count": 11,
      "id": "cd5690ef",
      "metadata": {
        "id": "cd5690ef"
      },
      "outputs": [
        {
          "data": {
            "text/plain": [
              "3"
            ]
          },
          "execution_count": 11,
          "metadata": {},
          "output_type": "execute_result"
        }
      ],
      "source": [
        "df.duplicated().sum()         # check for duplicates"
      ]
    },
    {
      "cell_type": "code",
      "execution_count": 12,
      "id": "Fmwb7l7sK20X",
      "metadata": {
        "id": "Fmwb7l7sK20X"
      },
      "outputs": [
        {
          "data": {
            "text/plain": [
              "SepalLengthCm    35\n",
              "SepalWidthCm     23\n",
              "PetalLengthCm    43\n",
              "PetalWidthCm     22\n",
              "Species           3\n",
              "dtype: int64"
            ]
          },
          "execution_count": 12,
          "metadata": {},
          "output_type": "execute_result"
        }
      ],
      "source": [
        "df.nunique()                  # check for uniques values"
      ]
    },
    {
      "cell_type": "code",
      "execution_count": 13,
      "id": "HYuWTEoxLAJH",
      "metadata": {
        "id": "HYuWTEoxLAJH"
      },
      "outputs": [
        {
          "data": {
            "text/html": [
              "<div>\n",
              "<style scoped>\n",
              "    .dataframe tbody tr th:only-of-type {\n",
              "        vertical-align: middle;\n",
              "    }\n",
              "\n",
              "    .dataframe tbody tr th {\n",
              "        vertical-align: top;\n",
              "    }\n",
              "\n",
              "    .dataframe thead th {\n",
              "        text-align: right;\n",
              "    }\n",
              "</style>\n",
              "<table border=\"1\" class=\"dataframe\">\n",
              "  <thead>\n",
              "    <tr style=\"text-align: right;\">\n",
              "      <th></th>\n",
              "      <th>SepalLengthCm</th>\n",
              "      <th>SepalWidthCm</th>\n",
              "      <th>PetalLengthCm</th>\n",
              "      <th>PetalWidthCm</th>\n",
              "    </tr>\n",
              "  </thead>\n",
              "  <tbody>\n",
              "    <tr>\n",
              "      <th>SepalLengthCm</th>\n",
              "      <td>1.000000</td>\n",
              "      <td>-0.109369</td>\n",
              "      <td>0.871754</td>\n",
              "      <td>0.817954</td>\n",
              "    </tr>\n",
              "    <tr>\n",
              "      <th>SepalWidthCm</th>\n",
              "      <td>-0.109369</td>\n",
              "      <td>1.000000</td>\n",
              "      <td>-0.420516</td>\n",
              "      <td>-0.356544</td>\n",
              "    </tr>\n",
              "    <tr>\n",
              "      <th>PetalLengthCm</th>\n",
              "      <td>0.871754</td>\n",
              "      <td>-0.420516</td>\n",
              "      <td>1.000000</td>\n",
              "      <td>0.962757</td>\n",
              "    </tr>\n",
              "    <tr>\n",
              "      <th>PetalWidthCm</th>\n",
              "      <td>0.817954</td>\n",
              "      <td>-0.356544</td>\n",
              "      <td>0.962757</td>\n",
              "      <td>1.000000</td>\n",
              "    </tr>\n",
              "  </tbody>\n",
              "</table>\n",
              "</div>"
            ],
            "text/plain": [
              "               SepalLengthCm  SepalWidthCm  PetalLengthCm  PetalWidthCm\n",
              "SepalLengthCm       1.000000     -0.109369       0.871754      0.817954\n",
              "SepalWidthCm       -0.109369      1.000000      -0.420516     -0.356544\n",
              "PetalLengthCm       0.871754     -0.420516       1.000000      0.962757\n",
              "PetalWidthCm        0.817954     -0.356544       0.962757      1.000000"
            ]
          },
          "execution_count": 13,
          "metadata": {},
          "output_type": "execute_result"
        }
      ],
      "source": [
        "df.corr()                     # check correlation"
      ]
    },
    {
      "cell_type": "markdown",
      "id": "f40be78c",
      "metadata": {
        "id": "f40be78c"
      },
      "source": [
        "## **Convert categorical feature into numerical using label encoding**"
      ]
    },
    {
      "cell_type": "code",
      "execution_count": 14,
      "id": "ddccf204",
      "metadata": {
        "id": "ddccf204"
      },
      "outputs": [],
      "source": [
        "from sklearn import preprocessing\n",
        "from sklearn.preprocessing import LabelEncoder"
      ]
    },
    {
      "cell_type": "code",
      "execution_count": 15,
      "id": "619900ef",
      "metadata": {
        "id": "619900ef"
      },
      "outputs": [
        {
          "data": {
            "text/html": [
              "<div>\n",
              "<style scoped>\n",
              "    .dataframe tbody tr th:only-of-type {\n",
              "        vertical-align: middle;\n",
              "    }\n",
              "\n",
              "    .dataframe tbody tr th {\n",
              "        vertical-align: top;\n",
              "    }\n",
              "\n",
              "    .dataframe thead th {\n",
              "        text-align: right;\n",
              "    }\n",
              "</style>\n",
              "<table border=\"1\" class=\"dataframe\">\n",
              "  <thead>\n",
              "    <tr style=\"text-align: right;\">\n",
              "      <th></th>\n",
              "      <th>SepalLengthCm</th>\n",
              "      <th>SepalWidthCm</th>\n",
              "      <th>PetalLengthCm</th>\n",
              "      <th>PetalWidthCm</th>\n",
              "      <th>Species</th>\n",
              "    </tr>\n",
              "  </thead>\n",
              "  <tbody>\n",
              "    <tr>\n",
              "      <th>0</th>\n",
              "      <td>5.1</td>\n",
              "      <td>3.5</td>\n",
              "      <td>1.4</td>\n",
              "      <td>0.2</td>\n",
              "      <td>0</td>\n",
              "    </tr>\n",
              "    <tr>\n",
              "      <th>1</th>\n",
              "      <td>4.9</td>\n",
              "      <td>3.0</td>\n",
              "      <td>1.4</td>\n",
              "      <td>0.2</td>\n",
              "      <td>0</td>\n",
              "    </tr>\n",
              "    <tr>\n",
              "      <th>2</th>\n",
              "      <td>4.7</td>\n",
              "      <td>3.2</td>\n",
              "      <td>1.3</td>\n",
              "      <td>0.2</td>\n",
              "      <td>0</td>\n",
              "    </tr>\n",
              "    <tr>\n",
              "      <th>3</th>\n",
              "      <td>4.6</td>\n",
              "      <td>3.1</td>\n",
              "      <td>1.5</td>\n",
              "      <td>0.2</td>\n",
              "      <td>0</td>\n",
              "    </tr>\n",
              "    <tr>\n",
              "      <th>4</th>\n",
              "      <td>5.0</td>\n",
              "      <td>3.6</td>\n",
              "      <td>1.4</td>\n",
              "      <td>0.2</td>\n",
              "      <td>0</td>\n",
              "    </tr>\n",
              "    <tr>\n",
              "      <th>...</th>\n",
              "      <td>...</td>\n",
              "      <td>...</td>\n",
              "      <td>...</td>\n",
              "      <td>...</td>\n",
              "      <td>...</td>\n",
              "    </tr>\n",
              "    <tr>\n",
              "      <th>145</th>\n",
              "      <td>6.7</td>\n",
              "      <td>3.0</td>\n",
              "      <td>5.2</td>\n",
              "      <td>2.3</td>\n",
              "      <td>2</td>\n",
              "    </tr>\n",
              "    <tr>\n",
              "      <th>146</th>\n",
              "      <td>6.3</td>\n",
              "      <td>2.5</td>\n",
              "      <td>5.0</td>\n",
              "      <td>1.9</td>\n",
              "      <td>2</td>\n",
              "    </tr>\n",
              "    <tr>\n",
              "      <th>147</th>\n",
              "      <td>6.5</td>\n",
              "      <td>3.0</td>\n",
              "      <td>5.2</td>\n",
              "      <td>2.0</td>\n",
              "      <td>2</td>\n",
              "    </tr>\n",
              "    <tr>\n",
              "      <th>148</th>\n",
              "      <td>6.2</td>\n",
              "      <td>3.4</td>\n",
              "      <td>5.4</td>\n",
              "      <td>2.3</td>\n",
              "      <td>2</td>\n",
              "    </tr>\n",
              "    <tr>\n",
              "      <th>149</th>\n",
              "      <td>5.9</td>\n",
              "      <td>3.0</td>\n",
              "      <td>5.1</td>\n",
              "      <td>1.8</td>\n",
              "      <td>2</td>\n",
              "    </tr>\n",
              "  </tbody>\n",
              "</table>\n",
              "<p>150 rows × 5 columns</p>\n",
              "</div>"
            ],
            "text/plain": [
              "     SepalLengthCm  SepalWidthCm  PetalLengthCm  PetalWidthCm  Species\n",
              "0              5.1           3.5            1.4           0.2        0\n",
              "1              4.9           3.0            1.4           0.2        0\n",
              "2              4.7           3.2            1.3           0.2        0\n",
              "3              4.6           3.1            1.5           0.2        0\n",
              "4              5.0           3.6            1.4           0.2        0\n",
              "..             ...           ...            ...           ...      ...\n",
              "145            6.7           3.0            5.2           2.3        2\n",
              "146            6.3           2.5            5.0           1.9        2\n",
              "147            6.5           3.0            5.2           2.0        2\n",
              "148            6.2           3.4            5.4           2.3        2\n",
              "149            5.9           3.0            5.1           1.8        2\n",
              "\n",
              "[150 rows x 5 columns]"
            ]
          },
          "execution_count": 15,
          "metadata": {},
          "output_type": "execute_result"
        }
      ],
      "source": [
        "LabelEncoder = preprocessing.LabelEncoder()\n",
        "df['Species'] = LabelEncoder.fit_transform(df['Species'])\n",
        "df"
      ]
    },
    {
      "cell_type": "code",
      "execution_count": 16,
      "id": "fa130bfe",
      "metadata": {
        "id": "fa130bfe"
      },
      "outputs": [
        {
          "data": {
            "image/png": "[encoded data removed]",
            "text/plain": [
              "<Figure size 432x216 with 1 Axes>"
            ]
          },
          "metadata": {
            "needs_background": "light"
          },
          "output_type": "display_data"
        },
        {
          "data": {
            "image/png": "[encoded data removed]",
            "text/plain": [
              "<Figure size 432x216 with 1 Axes>"
            ]
          },
          "metadata": {
            "needs_background": "light"
          },
          "output_type": "display_data"
        },
        {
          "data": {
            "image/png": "[encoded data removed]",
            "text/plain": [
              "<Figure size 432x216 with 1 Axes>"
            ]
          },
          "metadata": {
            "needs_background": "light"
          },
          "output_type": "display_data"
        },
        {
          "data": {
            "image/png": "[encoded data removed]",
            "text/plain": [
              "<Figure size 432x216 with 1 Axes>"
            ]
          },
          "metadata": {
            "needs_background": "light"
          },
          "output_type": "display_data"
        }
      ],
      "source": [
        "for i in df.columns:                                ## Check for any outliers in the numeric data\n",
        "    if df[i].dtype=='float64':\n",
        "        plt.figure(figsize=(6,3))\n",
        "        sns.boxplot(df[i])\n",
        "        plt.show()"
      ]
    },
    {
      "cell_type": "code",
      "execution_count": 17,
      "id": "252befe5",
      "metadata": {
        "id": "252befe5"
      },
      "outputs": [],
      "source": [
        "q1,q3 = np.percentile(df['SepalWidthCm'],[25,75])                  ## Treating outliers present in the SepalWidthCm column\n",
        "iqr = q3-q1\n",
        "lower_fence = q1 - (1.5*iqr)\n",
        "upper_fence = q3 + (1.5*iqr)\n",
        "df['SepalWidthCm'] = df['SepalWidthCm'].apply(lambda x: upper_fence if x>upper_fence \n",
        "                                                  else lower_fence if x<lower_fence else x)\n",
        "        \n"
      ]
    },
    {
      "cell_type": "code",
      "execution_count": 18,
      "id": "621e1712",
      "metadata": {
        "id": "621e1712"
      },
      "outputs": [
        {
          "data": {
            "image/png": "[encoded data removed]",
            "text/plain": [
              "<Figure size 432x288 with 1 Axes>"
            ]
          },
          "metadata": {
            "needs_background": "light"
          },
          "output_type": "display_data"
        }
      ],
      "source": [
        "sns.boxplot(df['SepalWidthCm']);"
      ]
    },
    {
      "cell_type": "markdown",
      "id": "f3d4502e",
      "metadata": {
        "id": "f3d4502e"
      },
      "source": [
        "## **Normalizing data**"
      ]
    },
    {
      "cell_type": "code",
      "execution_count": 19,
      "id": "d59109d8",
      "metadata": {
        "id": "d59109d8"
      },
      "outputs": [
        {
          "data": {
            "text/plain": [
              "array([[-9.00681170e-01,  1.06572221e+00, -1.34127240e+00,\n",
              "        -1.31297673e+00, -1.22474487e+00],\n",
              "       [-1.14301691e+00, -1.20170457e-01, -1.34127240e+00,\n",
              "        -1.31297673e+00, -1.22474487e+00],\n",
              "       [-1.38535265e+00,  3.54186609e-01, -1.39813811e+00,\n",
              "        -1.31297673e+00, -1.22474487e+00],\n",
              "       [-1.50652052e+00,  1.17008076e-01, -1.28440670e+00,\n",
              "        -1.31297673e+00, -1.22474487e+00],\n",
              "       [-1.02184904e+00,  1.30290074e+00, -1.34127240e+00,\n",
              "        -1.31297673e+00, -1.22474487e+00],\n",
              "       [-5.37177559e-01,  2.01443634e+00, -1.17067529e+00,\n",
              "        -1.05003079e+00, -1.22474487e+00],\n",
              "       [-1.50652052e+00,  8.28543675e-01, -1.34127240e+00,\n",
              "        -1.18150376e+00, -1.22474487e+00],\n",
              "       [-1.02184904e+00,  8.28543675e-01, -1.28440670e+00,\n",
              "        -1.31297673e+00, -1.22474487e+00],\n",
              "       [-1.74885626e+00, -3.57348990e-01, -1.34127240e+00,\n",
              "        -1.31297673e+00, -1.22474487e+00],\n",
              "       [-1.14301691e+00,  1.17008076e-01, -1.28440670e+00,\n",
              "        -1.44444970e+00, -1.22474487e+00],\n",
              "       [-5.37177559e-01,  1.54007927e+00, -1.28440670e+00,\n",
              "        -1.31297673e+00, -1.22474487e+00],\n",
              "       [-1.26418478e+00,  8.28543675e-01, -1.22754100e+00,\n",
              "        -1.31297673e+00, -1.22474487e+00],\n",
              "       [-1.26418478e+00, -1.20170457e-01, -1.34127240e+00,\n",
              "        -1.44444970e+00, -1.22474487e+00],\n",
              "       [-1.87002413e+00, -1.20170457e-01, -1.51186952e+00,\n",
              "        -1.44444970e+00, -1.22474487e+00],\n",
              "       [-5.25060772e-02,  2.25161487e+00, -1.45500381e+00,\n",
              "        -1.31297673e+00, -1.22474487e+00],\n",
              "       [-1.73673948e-01,  2.37020414e+00, -1.28440670e+00,\n",
              "        -1.05003079e+00, -1.22474487e+00],\n",
              "       [-5.37177559e-01,  2.01443634e+00, -1.39813811e+00,\n",
              "        -1.05003079e+00, -1.22474487e+00],\n",
              "       [-9.00681170e-01,  1.06572221e+00, -1.34127240e+00,\n",
              "        -1.18150376e+00, -1.22474487e+00],\n",
              "       [-1.73673948e-01,  1.77725781e+00, -1.17067529e+00,\n",
              "        -1.18150376e+00, -1.22474487e+00],\n",
              "       [-9.00681170e-01,  1.77725781e+00, -1.28440670e+00,\n",
              "        -1.18150376e+00, -1.22474487e+00],\n",
              "       [-5.37177559e-01,  8.28543675e-01, -1.17067529e+00,\n",
              "        -1.31297673e+00, -1.22474487e+00],\n",
              "       [-9.00681170e-01,  1.54007927e+00, -1.28440670e+00,\n",
              "        -1.05003079e+00, -1.22474487e+00],\n",
              "       [-1.50652052e+00,  1.30290074e+00, -1.56873522e+00,\n",
              "        -1.31297673e+00, -1.22474487e+00],\n",
              "       [-9.00681170e-01,  5.91365142e-01, -1.17067529e+00,\n",
              "        -9.18557817e-01, -1.22474487e+00],\n",
              "       [-1.26418478e+00,  8.28543675e-01, -1.05694388e+00,\n",
              "        -1.31297673e+00, -1.22474487e+00],\n",
              "       [-1.02184904e+00, -1.20170457e-01, -1.22754100e+00,\n",
              "        -1.31297673e+00, -1.22474487e+00],\n",
              "       [-1.02184904e+00,  8.28543675e-01, -1.22754100e+00,\n",
              "        -1.05003079e+00, -1.22474487e+00],\n",
              "       [-7.79513300e-01,  1.06572221e+00, -1.28440670e+00,\n",
              "        -1.31297673e+00, -1.22474487e+00],\n",
              "       [-7.79513300e-01,  8.28543675e-01, -1.34127240e+00,\n",
              "        -1.31297673e+00, -1.22474487e+00],\n",
              "       [-1.38535265e+00,  3.54186609e-01, -1.22754100e+00,\n",
              "        -1.31297673e+00, -1.22474487e+00],\n",
              "       [-1.26418478e+00,  1.17008076e-01, -1.22754100e+00,\n",
              "        -1.31297673e+00, -1.22474487e+00],\n",
              "       [-5.37177559e-01,  8.28543675e-01, -1.28440670e+00,\n",
              "        -1.05003079e+00, -1.22474487e+00],\n",
              "       [-7.79513300e-01,  2.37020414e+00, -1.28440670e+00,\n",
              "        -1.44444970e+00, -1.22474487e+00],\n",
              "       [-4.16009689e-01,  2.37020414e+00, -1.34127240e+00,\n",
              "        -1.31297673e+00, -1.22474487e+00],\n",
              "       [-1.14301691e+00,  1.17008076e-01, -1.28440670e+00,\n",
              "        -1.44444970e+00, -1.22474487e+00],\n",
              "       [-1.02184904e+00,  3.54186609e-01, -1.45500381e+00,\n",
              "        -1.31297673e+00, -1.22474487e+00],\n",
              "       [-4.16009689e-01,  1.06572221e+00, -1.39813811e+00,\n",
              "        -1.31297673e+00, -1.22474487e+00],\n",
              "       [-1.14301691e+00,  1.17008076e-01, -1.28440670e+00,\n",
              "        -1.44444970e+00, -1.22474487e+00],\n",
              "       [-1.74885626e+00, -1.20170457e-01, -1.39813811e+00,\n",
              "        -1.31297673e+00, -1.22474487e+00],\n",
              "       [-9.00681170e-01,  8.28543675e-01, -1.28440670e+00,\n",
              "        -1.31297673e+00, -1.22474487e+00],\n",
              "       [-1.02184904e+00,  1.06572221e+00, -1.39813811e+00,\n",
              "        -1.18150376e+00, -1.22474487e+00],\n",
              "       [-1.62768839e+00, -1.78042019e+00, -1.39813811e+00,\n",
              "        -1.18150376e+00, -1.22474487e+00],\n",
              "       [-1.74885626e+00,  3.54186609e-01, -1.39813811e+00,\n",
              "        -1.31297673e+00, -1.22474487e+00],\n",
              "       [-1.02184904e+00,  1.06572221e+00, -1.22754100e+00,\n",
              "        -7.87084847e-01, -1.22474487e+00],\n",
              "       [-9.00681170e-01,  1.77725781e+00, -1.05694388e+00,\n",
              "        -1.05003079e+00, -1.22474487e+00],\n",
              "       [-1.26418478e+00, -1.20170457e-01, -1.34127240e+00,\n",
              "        -1.18150376e+00, -1.22474487e+00],\n",
              "       [-9.00681170e-01,  1.77725781e+00, -1.22754100e+00,\n",
              "        -1.31297673e+00, -1.22474487e+00],\n",
              "       [-1.50652052e+00,  3.54186609e-01, -1.34127240e+00,\n",
              "        -1.31297673e+00, -1.22474487e+00],\n",
              "       [-6.58345429e-01,  1.54007927e+00, -1.28440670e+00,\n",
              "        -1.31297673e+00, -1.22474487e+00],\n",
              "       [-1.02184904e+00,  5.91365142e-01, -1.34127240e+00,\n",
              "        -1.31297673e+00, -1.22474487e+00],\n",
              "       [ 1.40150837e+00,  3.54186609e-01,  5.35295827e-01,\n",
              "         2.64698913e-01,  0.00000000e+00],\n",
              "       [ 6.74501145e-01,  3.54186609e-01,  4.21564419e-01,\n",
              "         3.96171883e-01,  0.00000000e+00],\n",
              "       [ 1.28034050e+00,  1.17008076e-01,  6.49027235e-01,\n",
              "         3.96171883e-01,  0.00000000e+00],\n",
              "       [-4.16009689e-01, -1.78042019e+00,  1.37235899e-01,\n",
              "         1.33225943e-01,  0.00000000e+00],\n",
              "       [ 7.95669016e-01, -5.94527523e-01,  4.78430123e-01,\n",
              "         3.96171883e-01,  0.00000000e+00],\n",
              "       [-1.73673948e-01, -5.94527523e-01,  4.21564419e-01,\n",
              "         1.33225943e-01,  0.00000000e+00],\n",
              "       [ 5.53333275e-01,  5.91365142e-01,  5.35295827e-01,\n",
              "         5.27644853e-01,  0.00000000e+00],\n",
              "       [-1.14301691e+00, -1.54324165e+00, -2.60824029e-01,\n",
              "        -2.61192967e-01,  0.00000000e+00],\n",
              "       [ 9.16836886e-01, -3.57348990e-01,  4.78430123e-01,\n",
              "         1.33225943e-01,  0.00000000e+00],\n",
              "       [-7.79513300e-01, -8.31706056e-01,  8.03701950e-02,\n",
              "         2.64698913e-01,  0.00000000e+00],\n",
              "       [-1.02184904e+00, -2.37336652e+00, -1.47092621e-01,\n",
              "        -2.61192967e-01,  0.00000000e+00],\n",
              "       [ 6.86617933e-02, -1.20170457e-01,  2.50967307e-01,\n",
              "         3.96171883e-01,  0.00000000e+00],\n",
              "       [ 1.89829664e-01, -2.01759872e+00,  1.37235899e-01,\n",
              "        -2.61192967e-01,  0.00000000e+00],\n",
              "       [ 3.10997534e-01, -3.57348990e-01,  5.35295827e-01,\n",
              "         2.64698913e-01,  0.00000000e+00],\n",
              "       [-2.94841818e-01, -3.57348990e-01, -9.02269170e-02,\n",
              "         1.33225943e-01,  0.00000000e+00],\n",
              "       [ 1.03800476e+00,  1.17008076e-01,  3.64698715e-01,\n",
              "         2.64698913e-01,  0.00000000e+00],\n",
              "       [-2.94841818e-01, -1.20170457e-01,  4.21564419e-01,\n",
              "         3.96171883e-01,  0.00000000e+00],\n",
              "       [-5.25060772e-02, -8.31706056e-01,  1.94101603e-01,\n",
              "        -2.61192967e-01,  0.00000000e+00],\n",
              "       [ 4.32165405e-01, -2.01759872e+00,  4.21564419e-01,\n",
              "         3.96171883e-01,  0.00000000e+00],\n",
              "       [-2.94841818e-01, -1.30606312e+00,  8.03701950e-02,\n",
              "        -1.29719997e-01,  0.00000000e+00],\n",
              "       [ 6.86617933e-02,  3.54186609e-01,  5.92161531e-01,\n",
              "         7.90590793e-01,  0.00000000e+00],\n",
              "       [ 3.10997534e-01, -5.94527523e-01,  1.37235899e-01,\n",
              "         1.33225943e-01,  0.00000000e+00],\n",
              "       [ 5.53333275e-01, -1.30606312e+00,  6.49027235e-01,\n",
              "         3.96171883e-01,  0.00000000e+00],\n",
              "       [ 3.10997534e-01, -5.94527523e-01,  5.35295827e-01,\n",
              "         1.75297293e-03,  0.00000000e+00],\n",
              "       [ 6.74501145e-01, -3.57348990e-01,  3.07833011e-01,\n",
              "         1.33225943e-01,  0.00000000e+00],\n",
              "       [ 9.16836886e-01, -1.20170457e-01,  3.64698715e-01,\n",
              "         2.64698913e-01,  0.00000000e+00],\n",
              "       [ 1.15917263e+00, -5.94527523e-01,  5.92161531e-01,\n",
              "         2.64698913e-01,  0.00000000e+00],\n",
              "       [ 1.03800476e+00, -1.20170457e-01,  7.05892939e-01,\n",
              "         6.59117823e-01,  0.00000000e+00],\n",
              "       [ 1.89829664e-01, -3.57348990e-01,  4.21564419e-01,\n",
              "         3.96171883e-01,  0.00000000e+00],\n",
              "       [-1.73673948e-01, -1.06888459e+00, -1.47092621e-01,\n",
              "        -2.61192967e-01,  0.00000000e+00],\n",
              "       [-4.16009689e-01, -1.54324165e+00,  2.35044910e-02,\n",
              "        -1.29719997e-01,  0.00000000e+00],\n",
              "       [-4.16009689e-01, -1.54324165e+00, -3.33612130e-02,\n",
              "        -2.61192967e-01,  0.00000000e+00],\n",
              "       [-5.25060772e-02, -8.31706056e-01,  8.03701950e-02,\n",
              "         1.75297293e-03,  0.00000000e+00],\n",
              "       [ 1.89829664e-01, -8.31706056e-01,  7.62758643e-01,\n",
              "         5.27644853e-01,  0.00000000e+00],\n",
              "       [-5.37177559e-01, -1.20170457e-01,  4.21564419e-01,\n",
              "         3.96171883e-01,  0.00000000e+00],\n",
              "       [ 1.89829664e-01,  8.28543675e-01,  4.21564419e-01,\n",
              "         5.27644853e-01,  0.00000000e+00],\n",
              "       [ 1.03800476e+00,  1.17008076e-01,  5.35295827e-01,\n",
              "         3.96171883e-01,  0.00000000e+00],\n",
              "       [ 5.53333275e-01, -1.78042019e+00,  3.64698715e-01,\n",
              "         1.33225943e-01,  0.00000000e+00],\n",
              "       [-2.94841818e-01, -1.20170457e-01,  1.94101603e-01,\n",
              "         1.33225943e-01,  0.00000000e+00],\n",
              "       [-4.16009689e-01, -1.30606312e+00,  1.37235899e-01,\n",
              "         1.33225943e-01,  0.00000000e+00],\n",
              "       [-4.16009689e-01, -1.06888459e+00,  3.64698715e-01,\n",
              "         1.75297293e-03,  0.00000000e+00],\n",
              "       [ 3.10997534e-01, -1.20170457e-01,  4.78430123e-01,\n",
              "         2.64698913e-01,  0.00000000e+00],\n",
              "       [-5.25060772e-02, -1.06888459e+00,  1.37235899e-01,\n",
              "         1.75297293e-03,  0.00000000e+00],\n",
              "       [-1.02184904e+00, -1.78042019e+00, -2.60824029e-01,\n",
              "        -2.61192967e-01,  0.00000000e+00],\n",
              "       [-2.94841818e-01, -8.31706056e-01,  2.50967307e-01,\n",
              "         1.33225943e-01,  0.00000000e+00],\n",
              "       [-1.73673948e-01, -1.20170457e-01,  2.50967307e-01,\n",
              "         1.75297293e-03,  0.00000000e+00],\n",
              "       [-1.73673948e-01, -3.57348990e-01,  2.50967307e-01,\n",
              "         1.33225943e-01,  0.00000000e+00],\n",
              "       [ 4.32165405e-01, -3.57348990e-01,  3.07833011e-01,\n",
              "         1.33225943e-01,  0.00000000e+00],\n",
              "       [-9.00681170e-01, -1.30606312e+00, -4.31421141e-01,\n",
              "        -1.29719997e-01,  0.00000000e+00],\n",
              "       [-1.73673948e-01, -5.94527523e-01,  1.94101603e-01,\n",
              "         1.33225943e-01,  0.00000000e+00],\n",
              "       [ 5.53333275e-01,  5.91365142e-01,  1.27454998e+00,\n",
              "         1.71090158e+00,  1.22474487e+00],\n",
              "       [-5.25060772e-02, -8.31706056e-01,  7.62758643e-01,\n",
              "         9.22063763e-01,  1.22474487e+00],\n",
              "       [ 1.52267624e+00, -1.20170457e-01,  1.21768427e+00,\n",
              "         1.18500970e+00,  1.22474487e+00],\n",
              "       [ 5.53333275e-01, -3.57348990e-01,  1.04708716e+00,\n",
              "         7.90590793e-01,  1.22474487e+00],\n",
              "       [ 7.95669016e-01, -1.20170457e-01,  1.16081857e+00,\n",
              "         1.31648267e+00,  1.22474487e+00],\n",
              "       [ 2.12851559e+00, -1.20170457e-01,  1.61574420e+00,\n",
              "         1.18500970e+00,  1.22474487e+00],\n",
              "       [-1.14301691e+00, -1.30606312e+00,  4.21564419e-01,\n",
              "         6.59117823e-01,  1.22474487e+00],\n",
              "       [ 1.76501198e+00, -3.57348990e-01,  1.44514709e+00,\n",
              "         7.90590793e-01,  1.22474487e+00],\n",
              "       [ 1.03800476e+00, -1.30606312e+00,  1.16081857e+00,\n",
              "         7.90590793e-01,  1.22474487e+00],\n",
              "       [ 1.64384411e+00,  1.30290074e+00,  1.33141568e+00,\n",
              "         1.71090158e+00,  1.22474487e+00],\n",
              "       [ 7.95669016e-01,  3.54186609e-01,  7.62758643e-01,\n",
              "         1.05353673e+00,  1.22474487e+00],\n",
              "       [ 6.74501145e-01, -8.31706056e-01,  8.76490051e-01,\n",
              "         9.22063763e-01,  1.22474487e+00],\n",
              "       [ 1.15917263e+00, -1.20170457e-01,  9.90221459e-01,\n",
              "         1.18500970e+00,  1.22474487e+00],\n",
              "       [-1.73673948e-01, -1.30606312e+00,  7.05892939e-01,\n",
              "         1.05353673e+00,  1.22474487e+00],\n",
              "       [-5.25060772e-02, -5.94527523e-01,  7.62758643e-01,\n",
              "         1.57942861e+00,  1.22474487e+00],\n",
              "       [ 6.74501145e-01,  3.54186609e-01,  8.76490051e-01,\n",
              "         1.44795564e+00,  1.22474487e+00],\n",
              "       [ 7.95669016e-01, -1.20170457e-01,  9.90221459e-01,\n",
              "         7.90590793e-01,  1.22474487e+00],\n",
              "       [ 2.24968346e+00,  1.77725781e+00,  1.67260991e+00,\n",
              "         1.31648267e+00,  1.22474487e+00],\n",
              "       [ 2.24968346e+00, -1.06888459e+00,  1.78634131e+00,\n",
              "         1.44795564e+00,  1.22474487e+00],\n",
              "       [ 1.89829664e-01, -2.01759872e+00,  7.05892939e-01,\n",
              "         3.96171883e-01,  1.22474487e+00],\n",
              "       [ 1.28034050e+00,  3.54186609e-01,  1.10395287e+00,\n",
              "         1.44795564e+00,  1.22474487e+00],\n",
              "       [-2.94841818e-01, -5.94527523e-01,  6.49027235e-01,\n",
              "         1.05353673e+00,  1.22474487e+00],\n",
              "       [ 2.24968346e+00, -5.94527523e-01,  1.67260991e+00,\n",
              "         1.05353673e+00,  1.22474487e+00],\n",
              "       [ 5.53333275e-01, -8.31706056e-01,  6.49027235e-01,\n",
              "         7.90590793e-01,  1.22474487e+00],\n",
              "       [ 1.03800476e+00,  5.91365142e-01,  1.10395287e+00,\n",
              "         1.18500970e+00,  1.22474487e+00],\n",
              "       [ 1.64384411e+00,  3.54186609e-01,  1.27454998e+00,\n",
              "         7.90590793e-01,  1.22474487e+00],\n",
              "       [ 4.32165405e-01, -5.94527523e-01,  5.92161531e-01,\n",
              "         7.90590793e-01,  1.22474487e+00],\n",
              "       [ 3.10997534e-01, -1.20170457e-01,  6.49027235e-01,\n",
              "         7.90590793e-01,  1.22474487e+00],\n",
              "       [ 6.74501145e-01, -5.94527523e-01,  1.04708716e+00,\n",
              "         1.18500970e+00,  1.22474487e+00],\n",
              "       [ 1.64384411e+00, -1.20170457e-01,  1.16081857e+00,\n",
              "         5.27644853e-01,  1.22474487e+00],\n",
              "       [ 1.88617985e+00, -5.94527523e-01,  1.33141568e+00,\n",
              "         9.22063763e-01,  1.22474487e+00],\n",
              "       [ 2.49201920e+00,  1.77725781e+00,  1.50201279e+00,\n",
              "         1.05353673e+00,  1.22474487e+00],\n",
              "       [ 6.74501145e-01, -5.94527523e-01,  1.04708716e+00,\n",
              "         1.31648267e+00,  1.22474487e+00],\n",
              "       [ 5.53333275e-01, -5.94527523e-01,  7.62758643e-01,\n",
              "         3.96171883e-01,  1.22474487e+00],\n",
              "       [ 3.10997534e-01, -1.06888459e+00,  1.04708716e+00,\n",
              "         2.64698913e-01,  1.22474487e+00],\n",
              "       [ 2.24968346e+00, -1.20170457e-01,  1.33141568e+00,\n",
              "         1.44795564e+00,  1.22474487e+00],\n",
              "       [ 5.53333275e-01,  8.28543675e-01,  1.04708716e+00,\n",
              "         1.57942861e+00,  1.22474487e+00],\n",
              "       [ 6.74501145e-01,  1.17008076e-01,  9.90221459e-01,\n",
              "         7.90590793e-01,  1.22474487e+00],\n",
              "       [ 1.89829664e-01, -1.20170457e-01,  5.92161531e-01,\n",
              "         7.90590793e-01,  1.22474487e+00],\n",
              "       [ 1.28034050e+00,  1.17008076e-01,  9.33355755e-01,\n",
              "         1.18500970e+00,  1.22474487e+00],\n",
              "       [ 1.03800476e+00,  1.17008076e-01,  1.04708716e+00,\n",
              "         1.57942861e+00,  1.22474487e+00],\n",
              "       [ 1.28034050e+00,  1.17008076e-01,  7.62758643e-01,\n",
              "         1.44795564e+00,  1.22474487e+00],\n",
              "       [-5.25060772e-02, -8.31706056e-01,  7.62758643e-01,\n",
              "         9.22063763e-01,  1.22474487e+00],\n",
              "       [ 1.15917263e+00,  3.54186609e-01,  1.21768427e+00,\n",
              "         1.44795564e+00,  1.22474487e+00],\n",
              "       [ 1.03800476e+00,  5.91365142e-01,  1.10395287e+00,\n",
              "         1.71090158e+00,  1.22474487e+00],\n",
              "       [ 1.03800476e+00, -1.20170457e-01,  8.19624347e-01,\n",
              "         1.44795564e+00,  1.22474487e+00],\n",
              "       [ 5.53333275e-01, -1.30606312e+00,  7.05892939e-01,\n",
              "         9.22063763e-01,  1.22474487e+00],\n",
              "       [ 7.95669016e-01, -1.20170457e-01,  8.19624347e-01,\n",
              "         1.05353673e+00,  1.22474487e+00],\n",
              "       [ 4.32165405e-01,  8.28543675e-01,  9.33355755e-01,\n",
              "         1.44795564e+00,  1.22474487e+00],\n",
              "       [ 6.86617933e-02, -1.20170457e-01,  7.62758643e-01,\n",
              "         7.90590793e-01,  1.22474487e+00]])"
            ]
          },
          "execution_count": 19,
          "metadata": {},
          "output_type": "execute_result"
        }
      ],
      "source": [
        "from sklearn.preprocessing import StandardScaler\n",
        "scaler = StandardScaler()\n",
        "scaled_df = scaler.fit_transform(df)\n",
        "\n",
        "scaled_df"
      ]
    },
    {
      "cell_type": "code",
      "execution_count": 20,
      "id": "7f68821b",
      "metadata": {
        "id": "7f68821b"
      },
      "outputs": [
        {
          "data": {
            "text/plain": [
              "array([0, 1, 2])"
            ]
          },
          "execution_count": 20,
          "metadata": {},
          "output_type": "execute_result"
        }
      ],
      "source": [
        "df.Species.unique()"
      ]
    },
    {
      "cell_type": "markdown",
      "id": "3ef2a35f",
      "metadata": {
        "id": "3ef2a35f"
      },
      "source": [
        "## **Model building**"
      ]
    },
    {
      "cell_type": "code",
      "execution_count": 21,
      "id": "f9946299",
      "metadata": {
        "id": "f9946299"
      },
      "outputs": [],
      "source": [
        "from sklearn.cluster import AgglomerativeClustering\n",
        "hc = AgglomerativeClustering(n_clusters=4, affinity = 'euclidean', linkage = 'single')     # create clusters"
      ]
    },
    {
      "cell_type": "code",
      "execution_count": 22,
      "id": "54786ea2",
      "metadata": {
        "id": "54786ea2"
      },
      "outputs": [
        {
          "data": {
            "text/html": [
              "<div>\n",
              "<style scoped>\n",
              "    .dataframe tbody tr th:only-of-type {\n",
              "        vertical-align: middle;\n",
              "    }\n",
              "\n",
              "    .dataframe tbody tr th {\n",
              "        vertical-align: top;\n",
              "    }\n",
              "\n",
              "    .dataframe thead th {\n",
              "        text-align: right;\n",
              "    }\n",
              "</style>\n",
              "<table border=\"1\" class=\"dataframe\">\n",
              "  <thead>\n",
              "    <tr style=\"text-align: right;\">\n",
              "      <th></th>\n",
              "      <th>Clusters</th>\n",
              "    </tr>\n",
              "  </thead>\n",
              "  <tbody>\n",
              "    <tr>\n",
              "      <th>0</th>\n",
              "      <td>2</td>\n",
              "    </tr>\n",
              "    <tr>\n",
              "      <th>1</th>\n",
              "      <td>2</td>\n",
              "    </tr>\n",
              "    <tr>\n",
              "      <th>2</th>\n",
              "      <td>2</td>\n",
              "    </tr>\n",
              "    <tr>\n",
              "      <th>3</th>\n",
              "      <td>2</td>\n",
              "    </tr>\n",
              "    <tr>\n",
              "      <th>4</th>\n",
              "      <td>2</td>\n",
              "    </tr>\n",
              "    <tr>\n",
              "      <th>...</th>\n",
              "      <td>...</td>\n",
              "    </tr>\n",
              "    <tr>\n",
              "      <th>145</th>\n",
              "      <td>0</td>\n",
              "    </tr>\n",
              "    <tr>\n",
              "      <th>146</th>\n",
              "      <td>0</td>\n",
              "    </tr>\n",
              "    <tr>\n",
              "      <th>147</th>\n",
              "      <td>0</td>\n",
              "    </tr>\n",
              "    <tr>\n",
              "      <th>148</th>\n",
              "      <td>0</td>\n",
              "    </tr>\n",
              "    <tr>\n",
              "      <th>149</th>\n",
              "      <td>0</td>\n",
              "    </tr>\n",
              "  </tbody>\n",
              "</table>\n",
              "<p>150 rows × 1 columns</p>\n",
              "</div>"
            ],
            "text/plain": [
              "     Clusters\n",
              "0           2\n",
              "1           2\n",
              "2           2\n",
              "3           2\n",
              "4           2\n",
              "..        ...\n",
              "145         0\n",
              "146         0\n",
              "147         0\n",
              "148         0\n",
              "149         0\n",
              "\n",
              "[150 rows x 1 columns]"
            ]
          },
          "execution_count": 22,
          "metadata": {},
          "output_type": "execute_result"
        }
      ],
      "source": [
        "y_hc = hc.fit_predict(scaled_df)\n",
        "Clusters=pd.DataFrame(y_hc,columns=['Clusters'])\n",
        "Clusters"
      ]
    },
    {
      "cell_type": "markdown",
      "id": "06c051a0",
      "metadata": {
        "id": "06c051a0"
      },
      "source": [
        "## **K-Means Clustering**"
      ]
    },
    {
      "cell_type": "code",
      "execution_count": 23,
      "id": "077e1b9a",
      "metadata": {
        "id": "077e1b9a"
      },
      "outputs": [],
      "source": [
        "from sklearn.cluster import KMeans"
      ]
    },
    {
      "cell_type": "code",
      "execution_count": 24,
      "id": "c5fb11c7",
      "metadata": {
        "id": "c5fb11c7"
      },
      "outputs": [
        {
          "data": {
            "image/png": "[encoded data removed]",
            "text/plain": [
              "<Figure size 432x288 with 1 Axes>"
            ]
          },
          "metadata": {
            "needs_background": "light"
          },
          "output_type": "display_data"
        }
      ],
      "source": [
        "wcss = []\n",
        "for i in range(1, 11):\n",
        "    kmeans = KMeans(n_clusters=i,random_state=0)\n",
        "    kmeans.fit(scaled_df)\n",
        "    wcss.append(kmeans.inertia_)\n",
        "    \n",
        "plt.plot(range(1, 11), wcss, marker='o', color='purple')\n",
        "plt.title('Elbow Method')\n",
        "plt.xlabel('Number of clusters')\n",
        "plt.ylabel('WCSS')\n",
        "plt.grid()\n",
        "plt.show()"
      ]
    },
    {
      "cell_type": "markdown",
      "id": "11535f87",
      "metadata": {
        "id": "11535f87"
      },
      "source": [
        "***------->   You can clearly see why it is called 'The elbow method' from the above graph, the optimum clusters is where the elbow occurs. This is when the within cluster sum of squares (WCSS) doesn't decrease significantly with every iteration.***"
      ]
    },
    {
      "cell_type": "code",
      "execution_count": 25,
      "id": "7b56c3e9",
      "metadata": {
        "id": "7b56c3e9"
      },
      "outputs": [
        {
          "data": {
            "text/plain": [
              "[750.0000000000002,\n",
              " 260.8726568107453,\n",
              " 162.47940204088474,\n",
              " 134.3788237527064,\n",
              " 108.98528907863553,\n",
              " 84.1565966119573,\n",
              " 75.94244264585153,\n",
              " 66.0906190799527,\n",
              " 57.08901492110105,\n",
              " 50.20678287294912]"
            ]
          },
          "execution_count": 25,
          "metadata": {},
          "output_type": "execute_result"
        }
      ],
      "source": [
        "wcss"
      ]
    },
    {
      "cell_type": "code",
      "execution_count": 26,
      "id": "7d0381f9",
      "metadata": {
        "id": "7d0381f9"
      },
      "outputs": [
        {
          "data": {
            "text/plain": [
              "KMeans(max_iter=500, n_clusters=3, random_state=42)"
            ]
          },
          "execution_count": 26,
          "metadata": {},
          "output_type": "execute_result"
        }
      ],
      "source": [
        "clusters_new = KMeans(3, max_iter=500, algorithm='auto', random_state=42)       #Build Cluster algorithm\n",
        "clusters_new.fit(scaled_df)"
      ]
    },
    {
      "cell_type": "code",
      "execution_count": 27,
      "id": "dda52885",
      "metadata": {
        "id": "dda52885"
      },
      "outputs": [
        {
          "data": {
            "text/plain": [
              "array([1, 1, 1, 1, 1, 1, 1, 1, 1, 1, 1, 1, 1, 1, 1, 1, 1, 1, 1, 1, 1, 1,\n",
              "       1, 1, 1, 1, 1, 1, 1, 1, 1, 1, 1, 1, 1, 1, 1, 1, 1, 1, 1, 1, 1, 1,\n",
              "       1, 1, 1, 1, 1, 1, 0, 2, 0, 2, 2, 2, 2, 2, 2, 2, 2, 2, 2, 2, 2, 2,\n",
              "       2, 2, 2, 2, 2, 2, 2, 2, 2, 2, 2, 0, 2, 2, 2, 2, 2, 2, 2, 2, 2, 2,\n",
              "       2, 2, 2, 2, 2, 2, 2, 2, 2, 2, 2, 2, 0, 2, 0, 0, 0, 0, 2, 0, 0, 0,\n",
              "       0, 0, 0, 2, 0, 0, 0, 0, 0, 2, 0, 2, 0, 0, 0, 0, 0, 0, 0, 0, 0, 0,\n",
              "       0, 0, 2, 0, 0, 0, 0, 0, 0, 0, 2, 0, 0, 0, 0, 0, 0, 0])"
            ]
          },
          "execution_count": 27,
          "metadata": {},
          "output_type": "execute_result"
        }
      ],
      "source": [
        "clusters_new.labels_"
      ]
    },
    {
      "cell_type": "code",
      "execution_count": 28,
      "id": "7747b7e5",
      "metadata": {
        "id": "7747b7e5"
      },
      "outputs": [],
      "source": [
        "df['clusterid_new'] = clusters_new.labels_                                    #Assign clusters to the data set"
      ]
    },
    {
      "cell_type": "code",
      "execution_count": 29,
      "id": "759dbb16",
      "metadata": {
        "id": "759dbb16"
      },
      "outputs": [
        {
          "data": {
            "text/plain": [
              "array([[ 1.08805236, -0.01704936,  1.0396699 ,  1.09640835,  1.14487021],\n",
              "       [-1.01457897,  0.84514617, -1.30487835, -1.25512862, -1.22474487],\n",
              "       [ 0.01256556, -0.76801923,  0.32257597,  0.22817864,  0.15876322]])"
            ]
          },
          "execution_count": 29,
          "metadata": {},
          "output_type": "execute_result"
        }
      ],
      "source": [
        "clusters_new.cluster_centers_"
      ]
    },
    {
      "cell_type": "code",
      "execution_count": 30,
      "id": "bf87b5af",
      "metadata": {
        "id": "bf87b5af"
      },
      "outputs": [
        {
          "data": {
            "text/html": [
              "<div>\n",
              "<style scoped>\n",
              "    .dataframe tbody tr th:only-of-type {\n",
              "        vertical-align: middle;\n",
              "    }\n",
              "\n",
              "    .dataframe tbody tr th {\n",
              "        vertical-align: top;\n",
              "    }\n",
              "\n",
              "    .dataframe thead tr th {\n",
              "        text-align: left;\n",
              "    }\n",
              "</style>\n",
              "<table border=\"1\" class=\"dataframe\">\n",
              "  <thead>\n",
              "    <tr>\n",
              "      <th></th>\n",
              "      <th>clusterid_new</th>\n",
              "      <th>SepalLengthCm</th>\n",
              "      <th>SepalWidthCm</th>\n",
              "      <th>PetalLengthCm</th>\n",
              "      <th>PetalWidthCm</th>\n",
              "      <th>Species</th>\n",
              "    </tr>\n",
              "    <tr>\n",
              "      <th></th>\n",
              "      <th></th>\n",
              "      <th>mean</th>\n",
              "      <th>mean</th>\n",
              "      <th>mean</th>\n",
              "      <th>mean</th>\n",
              "      <th>mean</th>\n",
              "    </tr>\n",
              "  </thead>\n",
              "  <tbody>\n",
              "    <tr>\n",
              "      <th>0</th>\n",
              "      <td>0</td>\n",
              "      <td>6.741304</td>\n",
              "      <td>3.043478</td>\n",
              "      <td>5.586957</td>\n",
              "      <td>2.032609</td>\n",
              "      <td>1.934783</td>\n",
              "    </tr>\n",
              "    <tr>\n",
              "      <th>1</th>\n",
              "      <td>1</td>\n",
              "      <td>5.006000</td>\n",
              "      <td>3.407000</td>\n",
              "      <td>1.464000</td>\n",
              "      <td>0.244000</td>\n",
              "      <td>0.000000</td>\n",
              "    </tr>\n",
              "    <tr>\n",
              "      <th>2</th>\n",
              "      <td>2</td>\n",
              "      <td>5.853704</td>\n",
              "      <td>2.726852</td>\n",
              "      <td>4.325926</td>\n",
              "      <td>1.372222</td>\n",
              "      <td>1.129630</td>\n",
              "    </tr>\n",
              "  </tbody>\n",
              "</table>\n",
              "</div>"
            ],
            "text/plain": [
              "  clusterid_new SepalLengthCm SepalWidthCm PetalLengthCm PetalWidthCm  \\\n",
              "                         mean         mean          mean         mean   \n",
              "0             0      6.741304     3.043478      5.586957     2.032609   \n",
              "1             1      5.006000     3.407000      1.464000     0.244000   \n",
              "2             2      5.853704     2.726852      4.325926     1.372222   \n",
              "\n",
              "    Species  \n",
              "       mean  \n",
              "0  1.934783  \n",
              "1  0.000000  \n",
              "2  1.129630  "
            ]
          },
          "execution_count": 30,
          "metadata": {},
          "output_type": "execute_result"
        }
      ],
      "source": [
        "df.groupby('clusterid_new').agg(['mean']).reset_index()"
      ]
    },
    {
      "cell_type": "code",
      "execution_count": 31,
      "id": "116e5bf5",
      "metadata": {
        "id": "116e5bf5"
      },
      "outputs": [
        {
          "data": {
            "text/html": [
              "<div>\n",
              "<style scoped>\n",
              "    .dataframe tbody tr th:only-of-type {\n",
              "        vertical-align: middle;\n",
              "    }\n",
              "\n",
              "    .dataframe tbody tr th {\n",
              "        vertical-align: top;\n",
              "    }\n",
              "\n",
              "    .dataframe thead th {\n",
              "        text-align: right;\n",
              "    }\n",
              "</style>\n",
              "<table border=\"1\" class=\"dataframe\">\n",
              "  <thead>\n",
              "    <tr style=\"text-align: right;\">\n",
              "      <th></th>\n",
              "      <th>SepalLengthCm</th>\n",
              "      <th>SepalWidthCm</th>\n",
              "      <th>PetalLengthCm</th>\n",
              "      <th>PetalWidthCm</th>\n",
              "      <th>Species</th>\n",
              "      <th>clusterid_new</th>\n",
              "    </tr>\n",
              "  </thead>\n",
              "  <tbody>\n",
              "    <tr>\n",
              "      <th>0</th>\n",
              "      <td>5.1</td>\n",
              "      <td>3.5</td>\n",
              "      <td>1.4</td>\n",
              "      <td>0.2</td>\n",
              "      <td>0</td>\n",
              "      <td>1</td>\n",
              "    </tr>\n",
              "    <tr>\n",
              "      <th>1</th>\n",
              "      <td>4.9</td>\n",
              "      <td>3.0</td>\n",
              "      <td>1.4</td>\n",
              "      <td>0.2</td>\n",
              "      <td>0</td>\n",
              "      <td>1</td>\n",
              "    </tr>\n",
              "    <tr>\n",
              "      <th>2</th>\n",
              "      <td>4.7</td>\n",
              "      <td>3.2</td>\n",
              "      <td>1.3</td>\n",
              "      <td>0.2</td>\n",
              "      <td>0</td>\n",
              "      <td>1</td>\n",
              "    </tr>\n",
              "    <tr>\n",
              "      <th>3</th>\n",
              "      <td>4.6</td>\n",
              "      <td>3.1</td>\n",
              "      <td>1.5</td>\n",
              "      <td>0.2</td>\n",
              "      <td>0</td>\n",
              "      <td>1</td>\n",
              "    </tr>\n",
              "    <tr>\n",
              "      <th>4</th>\n",
              "      <td>5.0</td>\n",
              "      <td>3.6</td>\n",
              "      <td>1.4</td>\n",
              "      <td>0.2</td>\n",
              "      <td>0</td>\n",
              "      <td>1</td>\n",
              "    </tr>\n",
              "    <tr>\n",
              "      <th>...</th>\n",
              "      <td>...</td>\n",
              "      <td>...</td>\n",
              "      <td>...</td>\n",
              "      <td>...</td>\n",
              "      <td>...</td>\n",
              "      <td>...</td>\n",
              "    </tr>\n",
              "    <tr>\n",
              "      <th>145</th>\n",
              "      <td>6.7</td>\n",
              "      <td>3.0</td>\n",
              "      <td>5.2</td>\n",
              "      <td>2.3</td>\n",
              "      <td>2</td>\n",
              "      <td>0</td>\n",
              "    </tr>\n",
              "    <tr>\n",
              "      <th>146</th>\n",
              "      <td>6.3</td>\n",
              "      <td>2.5</td>\n",
              "      <td>5.0</td>\n",
              "      <td>1.9</td>\n",
              "      <td>2</td>\n",
              "      <td>0</td>\n",
              "    </tr>\n",
              "    <tr>\n",
              "      <th>147</th>\n",
              "      <td>6.5</td>\n",
              "      <td>3.0</td>\n",
              "      <td>5.2</td>\n",
              "      <td>2.0</td>\n",
              "      <td>2</td>\n",
              "      <td>0</td>\n",
              "    </tr>\n",
              "    <tr>\n",
              "      <th>148</th>\n",
              "      <td>6.2</td>\n",
              "      <td>3.4</td>\n",
              "      <td>5.4</td>\n",
              "      <td>2.3</td>\n",
              "      <td>2</td>\n",
              "      <td>0</td>\n",
              "    </tr>\n",
              "    <tr>\n",
              "      <th>149</th>\n",
              "      <td>5.9</td>\n",
              "      <td>3.0</td>\n",
              "      <td>5.1</td>\n",
              "      <td>1.8</td>\n",
              "      <td>2</td>\n",
              "      <td>0</td>\n",
              "    </tr>\n",
              "  </tbody>\n",
              "</table>\n",
              "<p>150 rows × 6 columns</p>\n",
              "</div>"
            ],
            "text/plain": [
              "     SepalLengthCm  SepalWidthCm  PetalLengthCm  PetalWidthCm  Species  \\\n",
              "0              5.1           3.5            1.4           0.2        0   \n",
              "1              4.9           3.0            1.4           0.2        0   \n",
              "2              4.7           3.2            1.3           0.2        0   \n",
              "3              4.6           3.1            1.5           0.2        0   \n",
              "4              5.0           3.6            1.4           0.2        0   \n",
              "..             ...           ...            ...           ...      ...   \n",
              "145            6.7           3.0            5.2           2.3        2   \n",
              "146            6.3           2.5            5.0           1.9        2   \n",
              "147            6.5           3.0            5.2           2.0        2   \n",
              "148            6.2           3.4            5.4           2.3        2   \n",
              "149            5.9           3.0            5.1           1.8        2   \n",
              "\n",
              "     clusterid_new  \n",
              "0                1  \n",
              "1                1  \n",
              "2                1  \n",
              "3                1  \n",
              "4                1  \n",
              "..             ...  \n",
              "145              0  \n",
              "146              0  \n",
              "147              0  \n",
              "148              0  \n",
              "149              0  \n",
              "\n",
              "[150 rows x 6 columns]"
            ]
          },
          "execution_count": 31,
          "metadata": {},
          "output_type": "execute_result"
        }
      ],
      "source": [
        "df"
      ]
    },
    {
      "cell_type": "code",
      "execution_count": 32,
      "id": "99c6cdb0",
      "metadata": {
        "id": "99c6cdb0"
      },
      "outputs": [],
      "source": [
        "kmeans = KMeans(n_clusters = 3, init = 'k-means++',                           # Creating the kmeans classifier\n",
        "                max_iter = 300, n_init = 10, random_state = 42)\n",
        "y_kmeans = kmeans.fit_predict(scaled_df)"
      ]
    },
    {
      "cell_type": "code",
      "execution_count": 33,
      "id": "87f59dda",
      "metadata": {
        "id": "87f59dda"
      },
      "outputs": [
        {
          "data": {
            "text/plain": [
              "array([1, 1, 1, 1, 1, 1, 1, 1, 1, 1, 1, 1, 1, 1, 1, 1, 1, 1, 1, 1, 1, 1,\n",
              "       1, 1, 1, 1, 1, 1, 1, 1, 1, 1, 1, 1, 1, 1, 1, 1, 1, 1, 1, 1, 1, 1,\n",
              "       1, 1, 1, 1, 1, 1, 0, 2, 0, 2, 2, 2, 2, 2, 2, 2, 2, 2, 2, 2, 2, 2,\n",
              "       2, 2, 2, 2, 2, 2, 2, 2, 2, 2, 2, 0, 2, 2, 2, 2, 2, 2, 2, 2, 2, 2,\n",
              "       2, 2, 2, 2, 2, 2, 2, 2, 2, 2, 2, 2, 0, 2, 0, 0, 0, 0, 2, 0, 0, 0,\n",
              "       0, 0, 0, 2, 0, 0, 0, 0, 0, 2, 0, 2, 0, 0, 0, 0, 0, 0, 0, 0, 0, 0,\n",
              "       0, 0, 2, 0, 0, 0, 0, 0, 0, 0, 2, 0, 0, 0, 0, 0, 0, 0])"
            ]
          },
          "execution_count": 33,
          "metadata": {},
          "output_type": "execute_result"
        }
      ],
      "source": [
        "y_kmeans"
      ]
    },
    {
      "cell_type": "code",
      "execution_count": 34,
      "id": "edb4c30f",
      "metadata": {
        "id": "edb4c30f"
      },
      "outputs": [
        {
          "data": {
            "image/png": "[encoded data removed]",
            "text/plain": [
              "<Figure size 720x360 with 2 Axes>"
            ]
          },
          "metadata": {
            "needs_background": "light"
          },
          "output_type": "display_data"
        }
      ],
      "source": [
        "plt.figure(figsize=(10,5))\n",
        "sns.heatmap(abs(df.corr()), cmap='GnBu', annot=True);"
      ]
    },
    {
      "cell_type": "markdown",
      "id": "QuFoFkFIE6go",
      "metadata": {
        "id": "QuFoFkFIE6go"
      },
      "source": [
        "## **Data Visualisation**"
      ]
    },
    {
      "cell_type": "code",
      "execution_count": 35,
      "id": "13baf48e",
      "metadata": {
        "id": "13baf48e"
      },
      "outputs": [
        {
          "data": {
            "image/png": "[encoded data removed]",
            "text/plain": [
              "<Figure size 432x288 with 1 Axes>"
            ]
          },
          "metadata": {
            "needs_background": "light"
          },
          "output_type": "display_data"
        }
      ],
      "source": [
        "plt.scatter(scaled_df[y_kmeans == 0, 0], scaled_df[y_kmeans == 0, 1],          # Visualising the clusters - On the first two columns\n",
        "            s = 100, c = 'red', label = 'Iris-setosa')\n",
        "plt.scatter(scaled_df[y_kmeans == 1, 0], scaled_df[y_kmeans == 1, 1], \n",
        "            s = 100, c = 'blue', label = 'Iris-versicolour')\n",
        "plt.scatter(scaled_df[y_kmeans == 2, 0], scaled_df[y_kmeans == 2, 1],\n",
        "            s = 100, c = 'green', label = 'Iris-virginica')\n",
        "\n",
        "\n",
        "plt.scatter(kmeans.cluster_centers_[:, 0], kmeans.cluster_centers_[:,1],       # Plotting the centroids of the clusters\n",
        "            s = 100, c = 'yellow', label = 'Centroids')\n",
        "\n",
        "plt.legend()\n",
        "plt.grid()\n",
        "plt.show()"
      ]
    },
    {
      "cell_type": "markdown",
      "id": "f251f524",
      "metadata": {
        "id": "f251f524"
      },
      "source": [
        "****"
      ]
    },
    {
      "cell_type": "markdown",
      "id": "j5q3oswX_tyR",
      "metadata": {
        "id": "j5q3oswX_tyR"
      },
      "source": [
        "# **Conclusion**\n",
        "\n",
        "## -----> ***I was able to successfully carry-out prediction using Unsupervised Machine Learning task and was able to evaluate the model's clustering accuracy score.***"
      ]
    }
  ],
  "metadata": {
    "colab": {
      "provenance": []
    },
    "kernelspec": {
      "display_name": "Python 3.10.5 64-bit",
      "language": "python",
      "name": "python3"
    },
    "language_info": {
      "codemirror_mode": {
        "name": "ipython",
        "version": 3
      },
      "file_extension": ".py",
      "mimetype": "text/x-python",
      "name": "python",
      "nbconvert_exporter": "python",
      "pygments_lexer": "ipython3",
      "version": "3.10.5"
    },
    "vscode": {
      "interpreter": {
        "hash": "a42ccb73e7d9bfdf27e036f1d2b8b681e55fc0743cc5586bc2474d4a60f4b886"
      }
    }
  },
  "nbformat": 4,
  "nbformat_minor": 5
}
